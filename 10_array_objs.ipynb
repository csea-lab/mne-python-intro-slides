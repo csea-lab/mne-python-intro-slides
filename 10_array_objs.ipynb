{
  "cells": [
    {
      "cell_type": "code",
      "execution_count": 1,
      "metadata": {
        "collapsed": false
      },
      "outputs": [],
      "source": [
        "%matplotlib inline"
      ]
    },
    {
      "cell_type": "markdown",
      "metadata": {},
      "source": [
        "\n",
        "\n",
        "# Creating MNE-Python data structures from scratch\n",
        "\n",
        "This tutorial shows how to create MNE-Python's core data structures using an\n",
        "existing :class:`NumPy array <numpy.ndarray>` of (real or synthetic) data.\n",
        "\n",
        "We begin by importing the necessary Python modules:\n"
      ]
    },
    {
      "cell_type": "code",
      "execution_count": 2,
      "metadata": {
        "collapsed": false
      },
      "outputs": [],
      "source": [
        "import mne\n",
        "import numpy as np"
      ]
    },
    {
      "cell_type": "markdown",
      "metadata": {},
      "source": [
        "## Creating `~mne.Info` objects\n",
        "\n",
        ".. sidebar:: Info objects\n",
        "\n",
        "     For full documentation on the `~mne.Info` object, see\n",
        "     `tut-info-class`.\n",
        "\n",
        "The core data structures for continuous (`~mne.io.Raw`), discontinuous\n",
        "(`~mne.Epochs`), and averaged (`~mne.Evoked`) data all have an ``info``\n",
        "attribute comprising an `mne.Info` object. When reading recorded data using\n",
        "one of the functions in the ``mne.io`` submodule, `~mne.Info` objects are\n",
        "created and populated automatically. But if we want to create a\n",
        "`~mne.io.Raw`, `~mne.Epochs`, or `~mne.Evoked` object from scratch, we need\n",
        "to create an appropriate `~mne.Info` object as well. The easiest way to do\n",
        "this is with the `mne.create_info` function to initialize the required info\n",
        "fields. Additional fields can be assigned later as one would with a regular\n",
        ":class:`dictionary <dict>`.\n",
        "\n",
        "To initialize a minimal `~mne.Info` object requires a list of channel names,\n",
        "and the sampling frequency. As a convenience for simulated data, channel\n",
        "names can be provided as a single integer, and the names will be\n",
        "automatically created as sequential integers (starting with ``0``):\n",
        "\n"
      ]
    },
    {
      "cell_type": "code",
      "execution_count": 3,
      "metadata": {
        "collapsed": false
      },
      "outputs": [
        {
          "name": "stdout",
          "output_type": "stream",
          "text": [
            "<Info | 7 non-empty values\n",
            " bads: []\n",
            " ch_names: 0, 1, 2, 3, 4, 5, 6, 7, 8, 9, 10, 11, 12, 13, 14, 15, 16, 17, ...\n",
            " chs: 32 misc\n",
            " custom_ref_applied: False\n",
            " highpass: 0.0 Hz\n",
            " lowpass: 100.0 Hz\n",
            " meas_date: unspecified\n",
            " nchan: 32\n",
            " projs: []\n",
            " sfreq: 200.0 Hz\n",
            ">\n"
          ]
        }
      ],
      "source": [
        "# Create some dummy metadata\n",
        "n_channels = 32\n",
        "sampling_freq = 200  # in Hertz\n",
        "info = mne.create_info(n_channels, sfreq=sampling_freq)\n",
        "print(info)"
      ]
    },
    {
      "cell_type": "markdown",
      "metadata": {},
      "source": [
        "You can see in the output above that, by default, the channels are assigned\n",
        "as type \"misc\" (where it says ``chs: 32 MISC``). You can assign the channel\n",
        "type when initializing the `~mne.Info` object if you want:\n",
        "\n"
      ]
    },
    {
      "cell_type": "code",
      "execution_count": 4,
      "metadata": {
        "collapsed": false
      },
      "outputs": [
        {
          "name": "stdout",
          "output_type": "stream",
          "text": [
            "<Info | 7 non-empty values\n",
            " bads: []\n",
            " ch_names: MEG001, MEG002, MEG003, MEG004, MEG005, MEG006, MEG007, MEG008, ...\n",
            " chs: 3 Magnetometers, 6 Gradiometers, 1 EOG\n",
            " custom_ref_applied: False\n",
            " highpass: 0.0 Hz\n",
            " lowpass: 100.0 Hz\n",
            " meas_date: unspecified\n",
            " nchan: 10\n",
            " projs: []\n",
            " sfreq: 200.0 Hz\n",
            ">\n"
          ]
        }
      ],
      "source": [
        "ch_names = [f'MEG{n:03}' for n in range(1, 10)] + ['EOG001']\n",
        "ch_types = ['mag', 'grad', 'grad'] * 3 + ['eog']\n",
        "info = mne.create_info(ch_names, ch_types=ch_types, sfreq=sampling_freq)\n",
        "print(info)"
      ]
    },
    {
      "cell_type": "code",
      "execution_count": 5,
      "metadata": {},
      "outputs": [
        {
          "name": "stdout",
          "output_type": "stream",
          "text": [
            "['EGI_256', 'GSN-HydroCel-128', 'GSN-HydroCel-129', 'GSN-HydroCel-256', 'GSN-HydroCel-257', 'GSN-HydroCel-32', 'GSN-HydroCel-64_1.0', 'GSN-HydroCel-65_1.0', 'biosemi128', 'biosemi16', 'biosemi160', 'biosemi256', 'biosemi32', 'biosemi64', 'easycap-M1', 'easycap-M10', 'mgh60', 'mgh70', 'standard_1005', 'standard_1020', 'standard_alphabetic', 'standard_postfixed', 'standard_prefixed', 'standard_primed', 'artinis-octamon', 'artinis-brite23']\n"
          ]
        }
      ],
      "source": [
        "print(mne.channels.get_builtin_montages())"
      ]
    },
    {
      "cell_type": "markdown",
      "metadata": {},
      "source": [
        "If the channel names follow one of the standard montage naming schemes, their\n",
        "spatial locations can be automatically added using the\n",
        "`~mne.Info.set_montage` method:\n",
        "\n"
      ]
    },
    {
      "cell_type": "code",
      "execution_count": 6,
      "metadata": {
        "collapsed": false
      },
      "outputs": [
        {
          "data": {
            "text/html": [
              "<table class=\"table table-hover table-striped table-sm table-responsive small\">\n",
              "    <tr>\n",
              "        <th>Measurement date</th>\n",
              "        \n",
              "        <td>Unknown</td>\n",
              "        \n",
              "    </tr>\n",
              "    <tr>\n",
              "        <th>Experimenter</th>\n",
              "        \n",
              "        <td>Unknown</td>\n",
              "        \n",
              "    </tr>\n",
              "        <th>Participant</th>\n",
              "        \n",
              "        <td>Unknown</td>\n",
              "        \n",
              "    </tr>\n",
              "    <tr>\n",
              "        <th>Digitized points</th>\n",
              "        \n",
              "        <td>0 points</td>\n",
              "        \n",
              "    </tr>\n",
              "    <tr>\n",
              "        <th>Good channels</th>\n",
              "        <td>7 EEG</td>\n",
              "    </tr>\n",
              "    <tr>\n",
              "        <th>Bad channels</th>\n",
              "        <td>None</td>\n",
              "    </tr>\n",
              "    <tr>\n",
              "        <th>EOG channels</th>\n",
              "        <td>Not available</td>\n",
              "    </tr>\n",
              "    <tr>\n",
              "        <th>ECG channels</th>\n",
              "        <td>Not available</td>\n",
              "    \n",
              "    <tr>\n",
              "        <th>Sampling frequency</th>\n",
              "        <td>200.00 Hz</td>\n",
              "    </tr>\n",
              "    \n",
              "    \n",
              "    <tr>\n",
              "        <th>Highpass</th>\n",
              "        <td>0.00 Hz</td>\n",
              "    </tr>\n",
              "    \n",
              "    \n",
              "    <tr>\n",
              "        <th>Lowpass</th>\n",
              "        <td>100.00 Hz</td>\n",
              "    </tr>\n",
              "    \n",
              "    \n",
              "</table>"
            ],
            "text/plain": [
              "<Info | 8 non-empty values\n",
              " bads: []\n",
              " ch_names: Fp1, Fp2, Fz, Cz, Pz, O1, O2\n",
              " chs: 7 EEG\n",
              " custom_ref_applied: False\n",
              " dig: 10 items (3 Cardinal, 7 EEG)\n",
              " highpass: 0.0 Hz\n",
              " lowpass: 100.0 Hz\n",
              " meas_date: unspecified\n",
              " nchan: 7\n",
              " projs: []\n",
              " sfreq: 200.0 Hz\n",
              ">"
            ]
          },
          "execution_count": 6,
          "metadata": {},
          "output_type": "execute_result"
        }
      ],
      "source": [
        "ch_names = ['Fp1', 'Fp2', 'Fz', 'Cz', 'Pz', 'O1', 'O2']\n",
        "ch_types = ['eeg'] * 7\n",
        "info = mne.create_info(ch_names, ch_types=ch_types, sfreq=sampling_freq)\n",
        "info.set_montage('standard_1020')"
      ]
    },
    {
      "cell_type": "markdown",
      "metadata": {},
      "source": [
        ".. sidebar:: Info consistency\n",
        "\n",
        "    When assigning new values to the fields of an `~mne.Info` object, it is\n",
        "    important that the fields stay consistent. if there are ``N`` channels:\n",
        "\n",
        "    - The length of the channel information field ``chs`` must be ``N``.\n",
        "    - The length of the ``ch_names`` field must be ``N``.\n",
        "    - The ``ch_names`` field should be consistent with the ``name``\n",
        "      field of the channel information contained in ``chs``.\n",
        "\n",
        "Note the new field ``dig`` that includes our seven channel locations as well\n",
        "as theoretical values for the three\n",
        ":term:`cardinal scalp landmarks <fiducial point>`.\n",
        "\n",
        "Additional fields can be added in the same way that Python dictionaries are\n",
        "modified, using square-bracket key assignment:\n",
        "\n"
      ]
    },
    {
      "cell_type": "code",
      "execution_count": 7,
      "metadata": {
        "collapsed": false
      },
      "outputs": [
        {
          "name": "stdout",
          "output_type": "stream",
          "text": [
            "<Info | 10 non-empty values\n",
            " bads: 1 items (O1)\n",
            " ch_names: Fp1, Fp2, Fz, Cz, Pz, O1, O2\n",
            " chs: 7 EEG\n",
            " custom_ref_applied: False\n",
            " description: My custom dataset\n",
            " dig: 10 items (3 Cardinal, 7 EEG)\n",
            " highpass: 0.0 Hz\n",
            " lowpass: 100.0 Hz\n",
            " meas_date: unspecified\n",
            " nchan: 7\n",
            " projs: []\n",
            " sfreq: 200.0 Hz\n",
            ">\n"
          ]
        }
      ],
      "source": [
        "info['description'] = 'My custom dataset'\n",
        "info['bads'] = ['O1']  # Names of bad channels\n",
        "print(info)"
      ]
    },
    {
      "cell_type": "markdown",
      "metadata": {},
      "source": [
        "## Creating `~mne.io.Raw` objects\n",
        "\n",
        ".. sidebar:: Units\n",
        "\n",
        "    The expected units for the different channel types are:\n",
        "\n",
        "    - Volts: eeg, eog, seeg, dbs, emg, ecg, bio, ecog\n",
        "    - Teslas: mag\n",
        "    - Teslas/meter: grad\n",
        "    - Molar: hbo, hbr\n",
        "    - Amperes: dipole\n",
        "    - Arbitrary units: misc\n",
        "\n",
        "To create a `~mne.io.Raw` object from scratch, you can use the\n",
        "`mne.io.RawArray` class constructor, which takes an `~mne.Info` object and a\n",
        ":class:`NumPy array <numpy.ndarray>` of shape ``(n_channels, n_samples)``.\n",
        "Here, we'll create some sinusoidal data and plot it:\n",
        "\n"
      ]
    },
    {
      "cell_type": "code",
      "execution_count": 8,
      "metadata": {
        "collapsed": false
      },
      "outputs": [
        {
          "name": "stdout",
          "output_type": "stream",
          "text": [
            "Creating RawArray with float64 data, n_channels=2, n_times=200\n",
            "    Range : 0 ... 199 =      0.000 ...     0.995 secs\n",
            "Ready.\n",
            "Using qt as 2D backend.\n",
            "Opening raw-browser...\n",
            "Using pyopengl with version 3.1.6\n"
          ]
        },
        {
          "name": "stderr",
          "output_type": "stream",
          "text": [
            "qt.qpa.drawing: Layer-backing can not be explicitly controlled on 10.14 when built against the 10.14 SDK\n"
          ]
        },
        {
          "data": {
            "text/plain": [
              "<mne_qt_browser._pg_figure.MNEQtBrowser at 0x1b77cc5e0>"
            ]
          },
          "execution_count": 8,
          "metadata": {},
          "output_type": "execute_result"
        }
      ],
      "source": [
        "times = np.linspace(0, 1, sampling_freq, endpoint=False)\n",
        "sine = np.sin(20 * np.pi * times)\n",
        "cosine = np.cos(10 * np.pi * times)\n",
        "data = np.array([sine, cosine])\n",
        "\n",
        "info = mne.create_info(ch_names=['10 Hz sine', '5 Hz cosine'],\n",
        "                       ch_types=['misc'] * 2,\n",
        "                       sfreq=sampling_freq)\n",
        "\n",
        "simulated_raw = mne.io.RawArray(data, info)\n",
        "simulated_raw.plot(show_scrollbars=False, show_scalebars=False)"
      ]
    },
    {
      "cell_type": "markdown",
      "metadata": {},
      "source": [
        "## Creating `~mne.Epochs` objects\n",
        "\n",
        "To create an `~mne.Epochs` object from scratch, you can use the\n",
        "`mne.EpochsArray` class constructor, which takes an `~mne.Info` object and a\n",
        ":class:`NumPy array <numpy.ndarray>` of shape ``(n_epochs, n_channels,\n",
        "n_samples)``. Here we'll create 5 epochs of our 2-channel data, and plot it.\n",
        "Notice that we have to pass ``picks='misc'`` to the `~mne.Epochs.plot`\n",
        "method, because by default it only plots :term:`data channels`.\n",
        "\n"
      ]
    },
    {
      "cell_type": "code",
      "execution_count": 9,
      "metadata": {
        "collapsed": false
      },
      "outputs": [
        {
          "name": "stdout",
          "output_type": "stream",
          "text": [
            "Not setting metadata\n",
            "5 matching events found\n",
            "No baseline correction applied\n",
            "0 projection items activated\n",
            "0 bad epochs dropped\n",
            "Opening epochs-browser...\n",
            "Using pyopengl with version 3.1.6\n"
          ]
        },
        {
          "data": {
            "text/plain": [
              "<mne_qt_browser._pg_figure.MNEQtBrowser at 0x1bc90ae60>"
            ]
          },
          "execution_count": 9,
          "metadata": {},
          "output_type": "execute_result"
        }
      ],
      "source": [
        "data = np.array([[0.2 * sine, 1.0 * cosine],\n",
        "                 [0.4 * sine, 0.8 * cosine],\n",
        "                 [0.6 * sine, 0.6 * cosine],\n",
        "                 [0.8 * sine, 0.4 * cosine],\n",
        "                 [1.0 * sine, 0.2 * cosine]])\n",
        "\n",
        "simulated_epochs = mne.EpochsArray(data, info)\n",
        "simulated_epochs.plot(picks='misc', show_scrollbars=False)"
      ]
    },
    {
      "cell_type": "markdown",
      "metadata": {},
      "source": [
        "Since we did not supply an events array, the `~mne.EpochsArray` constructor\n",
        "automatically created one for us, with all epochs having the same event\n",
        "number:\n",
        "\n"
      ]
    },
    {
      "cell_type": "code",
      "execution_count": 21,
      "metadata": {
        "collapsed": false
      },
      "outputs": [
        {
          "name": "stdout",
          "output_type": "stream",
          "text": [
            "[1 2 1 2 1]\n"
          ]
        },
        {
          "data": {
            "text/html": [
              "<table class=\"table table-hover table-striped table-sm table-responsive small\">\n",
              "    <tr>\n",
              "        <th>Number of events</th>\n",
              "        <td>5</td>\n",
              "    </tr>\n",
              "    <tr>\n",
              "        <th>Events</th>\n",
              "        \n",
              "        <td>condition_A: 3<br/>condition_B: 2</td>\n",
              "        \n",
              "    </tr>\n",
              "    <tr>\n",
              "        <th>Time range</th>\n",
              "        <td>-0.500 – 0.495 sec</td>\n",
              "    </tr>\n",
              "    <tr>\n",
              "        <th>Baseline</th>\n",
              "        <td>off</td>\n",
              "    </tr>\n",
              "</table>"
            ],
            "text/plain": [
              "<EpochsArray |  5 events (all good), -0.5 - 0.495 sec, baseline off, ~23 kB, data loaded,\n",
              " 'condition_A': 3\n",
              " 'condition_B': 2>"
            ]
          },
          "execution_count": 21,
          "metadata": {},
          "output_type": "execute_result"
        }
      ],
      "source": [
        "print(simulated_epochs.events[:, -1])\n",
        "simulated_epochs"
      ]
    },
    {
      "cell_type": "markdown",
      "metadata": {},
      "source": [
        "If we want to simulate having different experimental conditions, we can pass\n",
        "an event array (and an event ID dictionary) to the constructor. Since our\n",
        "epochs are 1 second long and have 200 samples/second, we'll put our events\n",
        "spaced 200 samples apart, and pass ``tmin=-0.5``, so that the events\n",
        "land in the middle of each epoch (the events are always placed at time=0 in\n",
        "each epoch).\n",
        "\n"
      ]
    },
    {
      "cell_type": "code",
      "execution_count": 11,
      "metadata": {},
      "outputs": [
        {
          "data": {
            "text/html": [
              "<table class=\"table table-hover table-striped table-sm table-responsive small\">\n",
              "    <tr>\n",
              "        <th>Measurement date</th>\n",
              "        \n",
              "        <td>Unknown</td>\n",
              "        \n",
              "    </tr>\n",
              "    <tr>\n",
              "        <th>Experimenter</th>\n",
              "        \n",
              "        <td>Unknown</td>\n",
              "        \n",
              "    </tr>\n",
              "        <th>Participant</th>\n",
              "        \n",
              "        <td>Unknown</td>\n",
              "        \n",
              "    </tr>\n",
              "    <tr>\n",
              "        <th>Digitized points</th>\n",
              "        \n",
              "        <td>0 points</td>\n",
              "        \n",
              "    </tr>\n",
              "    <tr>\n",
              "        <th>Good channels</th>\n",
              "        <td>2 misc</td>\n",
              "    </tr>\n",
              "    <tr>\n",
              "        <th>Bad channels</th>\n",
              "        <td>None</td>\n",
              "    </tr>\n",
              "    <tr>\n",
              "        <th>EOG channels</th>\n",
              "        <td>Not available</td>\n",
              "    </tr>\n",
              "    <tr>\n",
              "        <th>ECG channels</th>\n",
              "        <td>Not available</td>\n",
              "    \n",
              "    <tr>\n",
              "        <th>Sampling frequency</th>\n",
              "        <td>200.00 Hz</td>\n",
              "    </tr>\n",
              "    \n",
              "    \n",
              "    <tr>\n",
              "        <th>Highpass</th>\n",
              "        <td>0.00 Hz</td>\n",
              "    </tr>\n",
              "    \n",
              "    \n",
              "    <tr>\n",
              "        <th>Lowpass</th>\n",
              "        <td>100.00 Hz</td>\n",
              "    </tr>\n",
              "    \n",
              "    \n",
              "</table>"
            ],
            "text/plain": [
              "<Info | 7 non-empty values\n",
              " bads: []\n",
              " ch_names: 10 Hz sine, 5 Hz cosine\n",
              " chs: 2 misc\n",
              " custom_ref_applied: False\n",
              " highpass: 0.0 Hz\n",
              " lowpass: 100.0 Hz\n",
              " meas_date: unspecified\n",
              " nchan: 2\n",
              " projs: []\n",
              " sfreq: 200.0 Hz\n",
              ">"
            ]
          },
          "execution_count": 11,
          "metadata": {},
          "output_type": "execute_result"
        }
      ],
      "source": [
        "simulated_epochs.info"
      ]
    },
    {
      "cell_type": "code",
      "execution_count": 12,
      "metadata": {
        "collapsed": false
      },
      "outputs": [
        {
          "name": "stdout",
          "output_type": "stream",
          "text": [
            "Not setting metadata\n",
            "5 matching events found\n",
            "No baseline correction applied\n",
            "0 projection items activated\n",
            "0 bad epochs dropped\n",
            "Opening epochs-browser...\n",
            "Using pyopengl with version 3.1.6\n"
          ]
        },
        {
          "data": {
            "text/plain": [
              "<mne_qt_browser._pg_figure.MNEQtBrowser at 0x1bb266b00>"
            ]
          },
          "execution_count": 12,
          "metadata": {},
          "output_type": "execute_result"
        }
      ],
      "source": [
        "events = np.column_stack((np.arange(0, 1000, sampling_freq),\n",
        "                          np.zeros(5, dtype=int),\n",
        "                          np.array([1, 2, 1, 2, 1])))\n",
        "event_dict = dict(condition_A=1, condition_B=2)\n",
        "simulated_epochs = mne.EpochsArray(data, info, tmin=-0.5, events=events,\n",
        "                                   event_id=event_dict)\n",
        "simulated_epochs.plot(picks='misc', show_scrollbars=False, events=events,\n",
        "                      event_id=event_dict)"
      ]
    },
    {
      "cell_type": "markdown",
      "metadata": {},
      "source": [
        "You could also create simulated epochs by using the normal `~mne.Epochs`\n",
        "(not `~mne.EpochsArray`) constructor on the simulated `~mne.io.RawArray`\n",
        "object, by creating an events array (e.g., using\n",
        "`mne.make_fixed_length_events`) and extracting epochs around those events.\n",
        "\n",
        "\n",
        "## Creating `~mne.Evoked` Objects\n",
        "\n",
        "If you already have data that was averaged across trials, you can use it to\n",
        "create an `~mne.Evoked` object using the `~mne.EvokedArray` class\n",
        "constructor.  It requires an `~mne.Info` object and a data array of shape\n",
        "``(n_channels, n_times)``, and has an optional ``tmin`` parameter like\n",
        "`~mne.EpochsArray` does. It also has a parameter ``nave`` indicating how many\n",
        "trials were averaged together, and a ``comment`` parameter useful for keeping\n",
        "track of experimental conditions, etc. Here we'll do the averaging on our\n",
        "NumPy array and use the resulting averaged data to make our `~mne.Evoked`.\n",
        "\n"
      ]
    },
    {
      "cell_type": "code",
      "execution_count": 13,
      "metadata": {
        "collapsed": false
      },
      "outputs": [
        {
          "name": "stdout",
          "output_type": "stream",
          "text": [
            "<Evoked | 'simulated' (average, N=5), -0.5 – 0.495 sec, baseline off, 2 ch, ~10 kB>\n"
          ]
        },
        {
          "data": {
            "image/png": "[encoded data removed]",
            "text/plain": [
              "<Figure size 460.8x216 with 1 Axes>"
            ]
          },
          "metadata": {
            "needs_background": "light"
          },
          "output_type": "display_data"
        },
        {
          "data": {
            "image/png": "[encoded data removed]",
            "text/plain": [
              "<Figure size 460.8x216 with 1 Axes>"
            ]
          },
          "execution_count": 13,
          "metadata": {},
          "output_type": "execute_result"
        }
      ],
      "source": [
        "# Create the Evoked object\n",
        "evoked_array = mne.EvokedArray(data.mean(axis=0), info, tmin=-0.5,\n",
        "                               nave=data.shape[0], comment='simulated')\n",
        "print(evoked_array)\n",
        "evoked_array.plot()"
      ]
    },
    {
      "cell_type": "code",
      "execution_count": 15,
      "metadata": {},
      "outputs": [],
      "source": [
        "sim_epc=simulated_epochs.copy()"
      ]
    },
    {
      "cell_type": "code",
      "execution_count": 19,
      "metadata": {},
      "outputs": [
        {
          "ename": "AttributeError",
          "evalue": "'Info' object has no attribute 'plot_sensors'",
          "output_type": "error",
          "traceback": [
            "\u001b[0;31m---------------------------------------------------------------------------\u001b[0m",
            "\u001b[0;31mAttributeError\u001b[0m                            Traceback (most recent call last)",
            "\u001b[0;32m/var/folders/j4/5b47x9f134593lnsztq6c84w4hnchz/T/ipykernel_57055/2143800211.py\u001b[0m in \u001b[0;36m<cell line: 4>\u001b[0;34m()\u001b[0m\n\u001b[1;32m      2\u001b[0m \u001b[0;34m\u001b[0m\u001b[0m\n\u001b[1;32m      3\u001b[0m \u001b[0;34m\u001b[0m\u001b[0m\n\u001b[0;32m----> 4\u001b[0;31m \u001b[0minfo\u001b[0m\u001b[0;34m.\u001b[0m\u001b[0mplot_sensors\u001b[0m\u001b[0;34m(\u001b[0m\u001b[0mshow_names\u001b[0m\u001b[0;34m=\u001b[0m\u001b[0;32mTrue\u001b[0m\u001b[0;34m)\u001b[0m\u001b[0;34m\u001b[0m\u001b[0;34m\u001b[0m\u001b[0m\n\u001b[0m",
            "\u001b[0;31mAttributeError\u001b[0m: 'Info' object has no attribute 'plot_sensors'"
          ]
        }
      ],
      "source": [
        "from matplotlib import pyplot as plt\n",
        "\n",
        "\n",
        "info.plot_sensors(show_names=True)"
      ]
    },
    {
      "cell_type": "code",
      "execution_count": null,
      "metadata": {},
      "outputs": [
        {
          "data": {
            "text/html": [
              "<table class=\"table table-hover table-striped table-sm table-responsive small\">\n",
              "    <tr>\n",
              "        <th>Measurement date</th>\n",
              "        \n",
              "        <td>Unknown</td>\n",
              "        \n",
              "    </tr>\n",
              "    <tr>\n",
              "        <th>Experimenter</th>\n",
              "        \n",
              "        <td>Unknown</td>\n",
              "        \n",
              "    </tr>\n",
              "        <th>Participant</th>\n",
              "        \n",
              "        <td>Unknown</td>\n",
              "        \n",
              "    </tr>\n",
              "    <tr>\n",
              "        <th>Digitized points</th>\n",
              "        \n",
              "        <td>0 points</td>\n",
              "        \n",
              "    </tr>\n",
              "    <tr>\n",
              "        <th>Good channels</th>\n",
              "        <td>7 EEG</td>\n",
              "    </tr>\n",
              "    <tr>\n",
              "        <th>Bad channels</th>\n",
              "        <td>None</td>\n",
              "    </tr>\n",
              "    <tr>\n",
              "        <th>EOG channels</th>\n",
              "        <td>Not available</td>\n",
              "    </tr>\n",
              "    <tr>\n",
              "        <th>ECG channels</th>\n",
              "        <td>Not available</td>\n",
              "    \n",
              "    <tr>\n",
              "        <th>Sampling frequency</th>\n",
              "        <td>200.00 Hz</td>\n",
              "    </tr>\n",
              "    \n",
              "    \n",
              "    <tr>\n",
              "        <th>Highpass</th>\n",
              "        <td>0.00 Hz</td>\n",
              "    </tr>\n",
              "    \n",
              "    \n",
              "    <tr>\n",
              "        <th>Lowpass</th>\n",
              "        <td>100.00 Hz</td>\n",
              "    </tr>\n",
              "    \n",
              "    \n",
              "</table>"
            ],
            "text/plain": [
              "<Info | 8 non-empty values\n",
              " bads: []\n",
              " ch_names: E22, E9, E6, E55, E62, E74, E82\n",
              " chs: 7 EEG\n",
              " custom_ref_applied: False\n",
              " dig: 10 items (3 Cardinal, 7 EEG)\n",
              " highpass: 0.0 Hz\n",
              " lowpass: 100.0 Hz\n",
              " meas_date: unspecified\n",
              " nchan: 7\n",
              " projs: []\n",
              " sfreq: 200.0 Hz\n",
              ">"
            ]
          },
          "execution_count": 14,
          "metadata": {},
          "output_type": "execute_result"
        }
      ],
      "source": [
        "ch_names = ['E22', 'E9', 'E6', 'E55', 'E62', 'E74', 'E82']\n",
        "ch_types = ['eeg'] * 7\n",
        "info_egi = mne.create_info(ch_names, ch_types=ch_types, sfreq=sampling_freq)\n",
        "info_egi.set_montage('GSN-HydroCel-128')"
      ]
    },
    {
      "cell_type": "code",
      "execution_count": null,
      "metadata": {},
      "outputs": [],
      "source": [
        "from matplotlib import pyplot as plt\n",
        "\n",
        "sensors_1020=info_1020.copy()\n",
        "sensors_egi=info_egi.copy()\n",
        "\n",
        "fig = plt.figure(figsize=(20, 25))\n",
        "ax3d = fig.add_subplot(121,projection='3d')\n",
        "ax2d = fig.add_subplot(122)\n",
        "sensors_1020.plot_sensors(axes=ax2d,show=False,show_names=True)\n",
        "sensors_egi.plot_sensors(axes=ax2d,show=False,show_names=True)\n",
        "ax3d.view_init(azim=70, elev=5)"
      ]
    }
  ],
  "metadata": {
    "interpreter": {
      "hash": "eb2deed888c183470f90a2f4f7a88f050bd656e7ee75cf8eefff8017d957171b"
    },
    "kernelspec": {
      "display_name": "Python 3.10.4",
      "language": "python",
      "name": "python3"
    },
    "language_info": {
      "codemirror_mode": {
        "name": "ipython",
        "version": 3
      },
      "file_extension": ".py",
      "mimetype": "text/x-python",
      "name": "python",
      "nbconvert_exporter": "python",
      "pygments_lexer": "ipython3",
      "version": "3.10.4"
    }
  },
  "nbformat": 4,
  "nbformat_minor": 0
}
